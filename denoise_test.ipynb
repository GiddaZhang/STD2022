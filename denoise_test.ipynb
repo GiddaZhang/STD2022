{
 "cells": [
  {
   "attachments": {},
   "cell_type": "markdown",
   "metadata": {},
   "source": [
    "# noisereduce\n",
    "`pip install noisereduce`\n",
    "\n",
    "网址：https://github.com/timsainb/noisereduce"
   ]
  },
  {
   "cell_type": "code",
   "execution_count": 22,
   "metadata": {},
   "outputs": [],
   "source": [
    "import os\n",
    "from scipy.io import wavfile\n",
    "import noisereduce as nr\n",
    "import numpy as np\n",
    "import wave\n",
    "root = os.getcwd()"
   ]
  },
  {
   "cell_type": "code",
   "execution_count": 48,
   "metadata": {},
   "outputs": [],
   "source": [
    "apath = 'Test/Noise/audio/'\n",
    "i = np.random.randint(0, 804)\n",
    "apath += '%04d.wav'%i\n",
    "channel = wave.open(apath).getnchannels()\n",
    "# load data\n",
    "rate, data = wavfile.read(apath)\n",
    "intens = np.sum(np.abs(data))\n",
    "if channel == 2:\n",
    "    data1 = data[:, 0]\n",
    "    data2 = data[:, 1]\n",
    "    intens1 = np.sum(np.abs(data1))\n",
    "    intens2 = np.sum(np.abs(data2))\n",
    "    # perform noise reduction\n",
    "    reduced_noise1 = nr.reduce_noise(y=data1, sr=rate, stationary=True)\n",
    "    reduced_noise1 *= int(0.5*intens1 /  np.sum(np.abs(reduced_noise1)))\n",
    "    reduced_noise2 = nr.reduce_noise(y=data2, sr=rate, stationary=True)\n",
    "    reduced_noise2 *= int(0.5*intens2 /  np.sum(np.abs(reduced_noise2)))\n",
    "    reduced_noise = np.stack((reduced_noise1, reduced_noise2), axis=1)\n",
    "else:\n",
    "    reduced_noise = nr.reduce_noise(y=data, sr=rate, stationary=True)\n",
    "    reduced_noise *= int(0.5*intens /  np.sum(np.abs(reduced_noise)))\n",
    "wavfile.write(\"mywav_noise.wav\", rate, data)\n",
    "wavfile.write(\"mywav_reduced_noise.wav\", rate, reduced_noise)"
   ]
  },
  {
   "cell_type": "code",
   "execution_count": 5,
   "metadata": {},
   "outputs": [],
   "source": [
    "os.startfile(os.path.join(root, 'mywav_noise.wav'))\n",
    "os.startfile(os.path.join(root, 'mywav_reduced_noise.wav'))\n"
   ]
  }
 ],
 "metadata": {
  "kernelspec": {
   "display_name": "pytorch",
   "language": "python",
   "name": "python3"
  },
  "language_info": {
   "codemirror_mode": {
    "name": "ipython",
    "version": 3
   },
   "file_extension": ".py",
   "mimetype": "text/x-python",
   "name": "python",
   "nbconvert_exporter": "python",
   "pygments_lexer": "ipython3",
   "version": "3.7.13 (default, Oct 19 2022, 10:19:43) [MSC v.1916 64 bit (AMD64)]"
  },
  "orig_nbformat": 4,
  "vscode": {
   "interpreter": {
    "hash": "719f98299ccca36a884f9d141671719e20aaacc8082e234f139e455a4a5b836e"
   }
  }
 },
 "nbformat": 4,
 "nbformat_minor": 2
}
