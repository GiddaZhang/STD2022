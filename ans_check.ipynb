{
 "cells": [
  {
   "cell_type": "code",
   "execution_count": 15,
   "metadata": {},
   "outputs": [],
   "source": [
    "import os\n",
    "import numpy as np\n",
    "root = os.getcwd()\n",
    "option = 'noise'    # 或'noise'"
   ]
  },
  {
   "cell_type": "code",
   "execution_count": 16,
   "metadata": {},
   "outputs": [],
   "source": [
    "if option == 'noise':\n",
    "    vpath = 'Test/Noise/video/'\n",
    "    apath = 'Test/Noise/audio/'\n",
    "    similar_mat = np.load('noise.npy')\n",
    "else:\n",
    "    vpath = 'Test/Clean/video/'\n",
    "    apath = 'Test/Clean/audio/'\n",
    "    similar_mat = np.load('clean.npy')\n",
    "\n",
    "i = np.random.randint(0, 804)\n",
    "similar_vec = similar_mat[i, :]\n",
    "arg = np.argsort(similar_vec)\n",
    "top = arg[-1]\n",
    "vpath += '%04d.mp4'%i\n",
    "apath += '%04d.wav'%top\n",
    "\n",
    "os.startfile(os.path.join(root, vpath))\n",
    "os.startfile(os.path.join(root, apath))\n"
   ]
  }
 ],
 "metadata": {
  "kernelspec": {
   "display_name": "base",
   "language": "python",
   "name": "python3"
  },
  "language_info": {
   "codemirror_mode": {
    "name": "ipython",
    "version": 3
   },
   "file_extension": ".py",
   "mimetype": "text/x-python",
   "name": "python",
   "nbconvert_exporter": "python",
   "pygments_lexer": "ipython3",
   "version": "3.8.8 (default, Apr 13 2021, 15:08:03) [MSC v.1916 64 bit (AMD64)]"
  },
  "orig_nbformat": 4,
  "vscode": {
   "interpreter": {
    "hash": "88279d2366fe020547cde40dd65aa0e3aa662a6ec1f3ca12d88834876c85e1a6"
   }
  }
 },
 "nbformat": 4,
 "nbformat_minor": 2
}
